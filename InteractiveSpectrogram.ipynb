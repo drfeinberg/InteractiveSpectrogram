{
 "cells": [
  {
   "cell_type": "code",
   "execution_count": 8,
   "metadata": {},
   "outputs": [],
   "source": [
    "import parselmouth\n",
    "import matplotlib.pyplot as plt\n",
    "import numpy as np\n",
    "import seaborn as sns\n",
    "from mpl_interactions import heatmap_slicer\n",
    "import matplotlib as mpl\n",
    "\n",
    "%matplotlib ipympl"
   ]
  },
  {
   "cell_type": "code",
   "execution_count": 9,
   "metadata": {},
   "outputs": [],
   "source": [
    "def create_plot(sound):\n",
    "    # Set plot parameters\n",
    "    sns.set()\n",
    "    plt.rcParams['figure.dpi'] = 100\n",
    "    mpl.rc('image', cmap='afmhot')\n",
    "\n",
    "\n",
    "\n",
    "\n",
    "    # Pre-process sound\n",
    "    sound.pre_emphasize()\n",
    "\n",
    "    # Create Spectrogram Object\n",
    "    spectrogram = sound.to_spectrogram(window_length=0.05,\n",
    "                                       maximum_frequency=5500)\n",
    "\n",
    "    # Get XYZ coordinates\n",
    "    X, Y = spectrogram.x_grid(), spectrogram.y_grid()\n",
    "    Z = 10 * np.log10(spectrogram.values)\n",
    "\n",
    "    # Set Spectrogram Parameters\n",
    "    dynamic_range=70\n",
    "    vmin = Z.max() - dynamic_range\n",
    "\n",
    "    # This is a colormesh plot, normal spectrogram\n",
    "    #plot = plt.pcolormesh(X, Y, Z, vmin, cmap='afmhot')\n",
    "\n",
    "    #\n",
    "    fig, axes = heatmap_slicer(X[:-1], Y[:-1], Z, slices='both',\n",
    "                            heatmap_names=('Spectra'),\n",
    "                            labels=('Time (s)', 'Frequency (Hz)'),\n",
    "                            interaction_type='move')\n",
    "    axes[1].set_xlabel('Time (s)')\n",
    "    axes[2].set_xlabel('Frequency (Hz)')\n",
    "    axes[1].set_ylabel('Amplitude (dB)')\n",
    "    axes[2].set_ylabel('Amplitude (dB)')\n",
    "    plt.show()"
   ]
  },
  {
   "cell_type": "code",
   "execution_count": 10,
   "metadata": {},
   "outputs": [
    {
     "data": {
      "application/vnd.jupyter.widget-view+json": {
       "model_id": "679f7b18e54e444ea773669b36f58ca4",
       "version_major": 2,
       "version_minor": 0
      },
      "text/plain": [
       "Canvas(toolbar=Toolbar(toolitems=[('Home', 'Reset original view', 'home', 'home'), ('Back', 'Back to previous …"
      ]
     },
     "metadata": {},
     "output_type": "display_data"
    },
    {
     "name": "stderr",
     "output_type": "stream",
     "text": [
      "/home/david/anaconda3/envs/matplot/lib/python3.7/site-packages/mpl_interactions/generic.py:96: MatplotlibDeprecationWarning: shading='flat' when X and Y have the same dimensions as C is deprecated since 3.3.  Either specify the corners of the quadrilaterals with X and Y, or pass shading='auto', 'nearest' or 'gouraud', or set rcParams['pcolor.shading'].  This will become an error two minor releases later.\n",
      "  ax.pcolormesh(X,Y,heatmaps[i])\n"
     ]
    }
   ],
   "source": [
    "# Load sound\n",
    "sound = parselmouth.Sound(\"/home/david/good_sound.wav\")\n",
    "create_plot(sound)"
   ]
  },
  {
   "cell_type": "code",
   "execution_count": null,
   "metadata": {},
   "outputs": [],
   "source": []
  }
 ],
 "metadata": {
  "kernelspec": {
   "display_name": "Python 3",
   "language": "python",
   "name": "python3"
  },
  "language_info": {
   "codemirror_mode": {
    "name": "ipython",
    "version": 3
   },
   "file_extension": ".py",
   "mimetype": "text/x-python",
   "name": "python",
   "nbconvert_exporter": "python",
   "pygments_lexer": "ipython3",
   "version": "3.7.7"
  }
 },
 "nbformat": 4,
 "nbformat_minor": 4
}
